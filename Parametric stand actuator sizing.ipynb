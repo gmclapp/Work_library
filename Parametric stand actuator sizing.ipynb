{
 "cells": [
  {
   "cell_type": "markdown",
   "metadata": {},
   "source": [
    "# Imports, function definitions and assumptions"
   ]
  },
  {
   "cell_type": "code",
   "execution_count": 1,
   "metadata": {},
   "outputs": [],
   "source": [
    "import math\n",
    "import matplotlib.pyplot as plt\n",
    "import numpy as np\n",
    "import sympy as sp\n",
    "import latex\n",
    "\n",
    "sp.init_printing(use_latex = True)\n",
    "\n",
    "def sind(angle):\n",
    "    angle_radians = angle * math.pi/ 180\n",
    "    result = math.sin(angle_radians)\n",
    "    return(result)\n",
    "\n",
    "def cosd(angle):\n",
    "    angle_radians = angle * math.pi/ 180\n",
    "    result = math.cos(angle_radians)\n",
    "    return(result)\n",
    "\n",
    "'''Assumptions'''\n",
    "shop_air_pressure = 90 # psi\n",
    "metric_shop_air = shop_air_pressure * 0.00689476 # MPa (N/mm^2)\n",
    "generic_actuator_mass = 2.1 # kg; not all actuators have mass properties in the model\n",
    "\n",
    "gripper_mass = generic_actuator_mass\n",
    "cross_car_pusher_mass = generic_actuator_mass\n",
    "\n",
    "gripper_size = 40 # 'radius' of gripper\n",
    "cross_car_pusher_size = 40 # 'radius' of cross car actuator\n",
    "\n",
    "cross_car_actuation_time = 1 # second\n",
    "PtoD_time = 20 # seconds\n",
    "# Total cycle time for existing equipment is approximately 5 minutes.\n",
    "\n",
    "'''Requirements from the print'''\n",
    "LAP = 200 # mm approximate LAP in vehicle for which efforts are developed.\n",
    "unlock_angle = 8 # deg\n",
    "\n",
    "Peak_effort = 26.1 # N \n",
    "Cross_car_effort = 11.7 # N (7.7 +/- 4) @LAP\n"
   ]
  },
  {
   "cell_type": "markdown",
   "metadata": {},
   "source": [
    "# Symbol definitions for symbolic math\n",
    "\n",
    "This is required so that a function for the desired acceleration profile can be integrated to produce the velocity and position profiles"
   ]
  },
  {
   "cell_type": "code",
   "execution_count": 2,
   "metadata": {},
   "outputs": [
    {
     "name": "stdout",
     "output_type": "stream",
     "text": [
      "Final position:  30.0978586367428\n",
      "α = 0.00112866969887786⋅t⋅(t - 20)⋅(t - 10.0)\n",
      "ω =                       4                       3                      2\n",
      "  0.000282167424719465⋅t  - 0.0112866969887786⋅t  + 0.112866969887786⋅t   \n",
      "θ =                      5                        4                       3\n",
      "  5.64334849438929e-5⋅t  - 0.00282167424719465⋅t  + 0.0376223232959286⋅t   \n"
     ]
    }
   ],
   "source": [
    "t, theta, omega, alpha = sp.symbols('t theta omega alpha')\n",
    "\n",
    "magnitude = 1\n",
    "final_position = 0 # initialize this variable to 0. The loop will attempt to match this to the target position\n",
    "target_position = 30\n",
    "delta = math.inf\n",
    "#for i in range(500):\n",
    "while abs(delta) > 0.1:\n",
    "    alpha_expr = magnitude*(t)*(t-PtoD_time/2)*(t-PtoD_time)\n",
    "    omega_expr = sp.integrate(alpha_expr,t)\n",
    "    theta_expr = sp.integrate(omega_expr,t)\n",
    "\n",
    "    final_position = theta_expr.subs(t,PtoD_time)\n",
    "    \n",
    "    delta = (target_position-final_position)\n",
    "    magnitude += delta*0.000001\n",
    "    \n",
    "print(\"Final position: \",final_position)\n",
    "acc_equation = (sp.pretty(alpha)) + \" = \" + sp.pretty(alpha_expr)\n",
    "vel_equation = sp.pretty(omega) + \" = \" + sp.pretty(omega_expr)\n",
    "pos_equation = sp.pretty(theta) + \" = \" + sp.pretty(theta_expr)\n",
    "\n",
    "sp.pprint(acc_equation)\n",
    "sp.pprint(vel_equation)\n",
    "sp.pprint(pos_equation)"
   ]
  },
  {
   "cell_type": "markdown",
   "metadata": {},
   "source": [
    "# Measurements from the model\n",
    "\n",
    "Certain measurements were taken from the CAD model of the parametric stand in order to determine the mass properties of the tooling being analyzed. Several of the actuators did not have mass properties, so their moments of inertia were found using an estimated mass and treating them as cylinders roughly matching the actuator size."
   ]
  },
  {
   "cell_type": "code",
   "execution_count": 3,
   "metadata": {},
   "outputs": [
    {
     "name": "stdout",
     "output_type": "stream",
     "text": [
      "Required cross car actuator force (static): 36.22 N\n",
      "Cross-car stroke 9.01 mm\n",
      "Max static torque 4114.66 Nmm\n",
      "\n"
     ]
    }
   ],
   "source": [
    "'''Measurements from the model'''\n",
    "tooling_mass = 1.97951 # kg\n",
    "tooling_com_r = 95.55 # mm\n",
    "# With the lever in the park position, this is the angle between a vertical reference and the centerline upon which the COM lies.\n",
    "tooling_com_angle = 61\n",
    "fan_angle = 30 # resulting in COM 91 degrees from vertical with the lever in Drive.\n",
    "\n",
    "LAP_r = 157.65 # mm This is the distance where the parametric tooling is pushing on the lever simulator from the shaft\n",
    "cross_car_r = 64.6 # mm This is the location of the cross-car actuator from the shaft\n",
    "\n",
    "Cross_car_actuator_force = Cross_car_effort*LAP/cross_car_r\n",
    "\n",
    "print(\"Required cross car actuator force (static): {:4.2f} N\".format(Cross_car_actuator_force))\n",
    "\n",
    "cross_car_stroke_chord = sind(unlock_angle)*cross_car_r/sind(90-unlock_angle/2)\n",
    "print(\"Cross-car stroke {:4.2f} mm\".format(cross_car_stroke_chord))\n",
    "\n",
    "ForeAft_max_torque = Peak_effort * LAP_r\n",
    "print(\"Max static torque {:4.2f} Nmm\\n\".format(ForeAft_max_torque))\n",
    "gear_ratio = 100/1"
   ]
  },
  {
   "cell_type": "markdown",
   "metadata": {},
   "source": [
    "# Inertia calculations\n",
    "\n",
    "The following line calculate the moment of inertia of several items about an axis through their own center of mass (COM) and\n",
    "parallel to the rotating shaft, uses the parallel axis theorem shown below to find their respective moments of inertia about\n",
    "the shaft, then adds them to get the effective moment of inertia of the tooling.\n",
    "\n",
    "$I_{shaft} = I_{COM} + m*d^2$\n",
    "\n",
    "where d is the distance between two parallel axes and m is the mass of the object in question"
   ]
  },
  {
   "cell_type": "code",
   "execution_count": 4,
   "metadata": {},
   "outputs": [],
   "source": [
    "# Actuators modeled as solid cylinders where mass properties are unavailable.\n",
    "I_gripper = 0.5*gripper_mass*gripper_size**2\n",
    "I_cross_car_pusher = 0.5*cross_car_pusher_mass*cross_car_pusher_size**2\n",
    "\n",
    "# Parallel axis theorem to sum moments of inertia about COM\n",
    "I_gripper_COM = I_gripper + gripper_mass * LAP_r**2\n",
    "I_cross_car_pusher_COM = I_cross_car_pusher + cross_car_pusher_mass * cross_car_r**2\n",
    "\n",
    "Itooling = 25762.28127 # kg/mm^2 from the model\n",
    "I = I_gripper_COM + Itooling + I_cross_car_pusher_COM\n"
   ]
  },
  {
   "cell_type": "markdown",
   "metadata": {},
   "source": [
    "The following generates data point based on the equations determined above for the purpose of plotting the angular position, velocity and acceleration of the tooling"
   ]
  },
  {
   "cell_type": "code",
   "execution_count": 5,
   "metadata": {},
   "outputs": [
    {
     "name": "stdout",
     "output_type": "stream",
     "text": [
      "Final position = 30.10\n",
      "Maximum velocity = 2.82\n",
      "Maximum acceleration = 0.43\n",
      "Moment of inertia about the shaft 90078.31 kg/mm^2\n"
     ]
    }
   ],
   "source": [
    "'''Motion profile'''\n",
    "dt = 0.05\n",
    "time_data = np.arange(0.0,PtoD_time+dt,dt)\n",
    "time_data = time_data.tolist()\n",
    "theta_list = []\n",
    "omega_list = []\n",
    "alpha_list = []\n",
    "angle_offset = []\n",
    "\n",
    "for second in time_data:\n",
    "    theta_list.append(theta_expr.subs(t,second))\n",
    "    omega_list.append(omega_expr.subs(t,second)*gear_ratio)\n",
    "    alpha_list.append(alpha_expr.subs(t,second))\n",
    "    angle_offset.append(theta_expr.subs(t,second)+tooling_com_angle)\n",
    "\n",
    "max_velocity = omega_expr.subs(t,PtoD_time/2)\n",
    "max_acceleration = max(alpha_list)\n",
    "\n",
    "print(\"Final position = {:4.2f}\".format(final_position))\n",
    "print(\"Maximum velocity = {:4.2f}\".format(max_velocity))\n",
    "print(\"Maximum acceleration = {:4.2f}\".format(max_acceleration))\n",
    "\n",
    "\n",
    "print(\"Moment of inertia about the shaft {:4.2f} kg/mm^2\".format(I))"
   ]
  },
  {
   "cell_type": "markdown",
   "metadata": {},
   "source": [
    "# Determine the net torque based on the motion profile\n",
    "\n",
    "The following uses the relationship below to determine the required net torque on the assembly.\n",
    "\n",
    "$I*{\\alpha} = {\\sum}T$"
   ]
  },
  {
   "cell_type": "code",
   "execution_count": 6,
   "metadata": {},
   "outputs": [],
   "source": [
    "net_torque_list = []\n",
    "for i, t in enumerate(time_data):\n",
    "    try:\n",
    "        temp_torque = (I*float(alpha_list[i]))/1000 # Nm\n",
    "    except ZeroDivisionError:\n",
    "        temp_torque = 0\n",
    "        \n",
    "    net_torque_list.append(temp_torque)\n",
    "    #print(\"Time: {:4.2f}, Alpha = {:4.2f}, Torque = {:4.2f}\".format(t, float(alpha_list[i]),temp_torque))\n",
    "    \n",
    "net_torque = [time_data,net_torque_list]\n",
    "\n",
    "position = [time_data,theta_list]\n",
    "velocity = [time_data,omega_list]\n",
    "acceleration = [time_data,alpha_list]\n",
    "\n",
    "\n",
    "#torque_axis = plt.subplot2grid((1,2),(0,1),rowspan=1,colspan=1)\n",
    "\n",
    "# The following creates a subplot with the motion profile data that will be plotted below\n",
    "#motion_axis = plt.subplot2grid((1,2),(0,0),rowspan=1,colspan=1)\n"
   ]
  },
  {
   "cell_type": "code",
   "execution_count": 7,
   "metadata": {},
   "outputs": [
    {
     "name": "stdout",
     "output_type": "stream",
     "text": [
      "Maximum net torque 39.13 Nm\n"
     ]
    }
   ],
   "source": [
    "\n",
    "'''Actuator specs'''\n",
    "max_net_torque = I*max_acceleration/1000 # N*m\n",
    "print(\"Maximum net torque {:4.2f} Nm\".format(max_net_torque))\n"
   ]
  },
  {
   "cell_type": "markdown",
   "metadata": {},
   "source": [
    "# Determine the torque caused by the fixture mass\n"
   ]
  },
  {
   "cell_type": "code",
   "execution_count": 8,
   "metadata": {},
   "outputs": [],
   "source": [
    "tooling_torque_list = []\n",
    "for angle in theta_list:\n",
    "    Phi = tooling_com_angle + angle\n",
    "    temp_torque = 9.81*(tooling_mass+gripper_mass+cross_car_pusher_mass)*sind(Phi)\n",
    "    tooling_torque_list.append(temp_torque)\n",
    "tooling_torque = [time_data,tooling_torque_list]\n",
    "# This torque is a function of the lever angle. If not sharing an axis with theta this is not valid"
   ]
  },
  {
   "cell_type": "markdown",
   "metadata": {},
   "source": [
    "# Determine the torque caused by the detent profile"
   ]
  },
  {
   "cell_type": "markdown",
   "metadata": {},
   "source": [
    "# Determine the required torque from the motor"
   ]
  },
  {
   "cell_type": "code",
   "execution_count": 13,
   "metadata": {},
   "outputs": [],
   "source": [
    "motor_torque_list = []\n",
    "for i, torque in enumerate(net_torque_list):\n",
    "    #temp_torque = torque - tooling_torque_list[i] - detent_torque_list[i]\n",
    "    temp_torque = torque - tooling_torque_list[i]\n",
    "    motor_torque_list.append(temp_torque/gear_ratio)\n",
    "motor_torque = [time_data,motor_torque_list]\n",
    "\n",
    "# convert to oz-in for comparison to data sheet\n",
    "english_motor_torque = []\n",
    "speed_rps = []\n",
    "for t in motor_torque_list:\n",
    "    english_motor_torque.append(abs(t*141.612))\n",
    "for s in omega_list:\n",
    "    # From deg/s to rps\n",
    "    speed_rps.append(s/360)\n",
    "\n",
    "torque_by_speed = [speed_rps, english_motor_torque]"
   ]
  },
  {
   "cell_type": "code",
   "execution_count": 14,
   "metadata": {},
   "outputs": [
    {
     "data": {
      "image/png": "[encoded data removed]",
      "text/plain": [
       "<Figure size 288x864 with 7 Axes>"
      ]
     },
     "metadata": {
      "needs_background": "light"
     },
     "output_type": "display_data"
    }
   ],
   "source": [
    "Figure, axes = plt.subplots(7,1,figsize=(4,12))\n",
    "axes[0].set_ylabel(\"Angular position ($deg$)\")\n",
    "axes[0].plot(position[0],position[1],'r-')\n",
    "\n",
    "axes[1].set_ylabel(\"Motor angular velocity ($deg/s$)\")\n",
    "axes[1].plot(velocity[0],velocity[1],'b-')\n",
    "\n",
    "axes[2].set_ylabel(\"Angular acceleration ($deg/s^2$)\")\n",
    "axes[2].plot(acceleration[0],acceleration[1],'g-')\n",
    "\n",
    "axes[3].set_ylabel(\"Net torque (Nm)\")\n",
    "axes[3].plot(net_torque[0],net_torque[1],'k-')\n",
    "\n",
    "axes[4].set_ylabel(\"Fixture torque\")\n",
    "axes[4].plot(tooling_torque[0],tooling_torque[1],'orange')\n",
    "\n",
    "axes[5].set_ylabel(\"Motor torque\")\n",
    "axes[5].plot(motor_torque[0],motor_torque[1],'purple')\n",
    "\n",
    "axes[6].set_ylabel(\"Motor torque (oz-in)\")\n",
    "axes[6].set_xlabel(\"Rotational velocity (rps)\")\n",
    "axes[6].plot(torque_by_speed[0],torque_by_speed[1],'green')\n",
    "\n",
    "plt.show()"
   ]
  },
  {
   "cell_type": "code",
   "execution_count": 25,
   "metadata": {},
   "outputs": [
    {
     "name": "stdout",
     "output_type": "stream",
     "text": [
      "0.9974480654575325\n",
      "39.13131567787603\n"
     ]
    }
   ],
   "source": [
    "print(max(max(motor_torque_list), min(motor_torque_list)*-1))\n",
    "print(max(max(net_torque_list), min(net_torque_list)*-1))"
   ]
  },
  {
   "cell_type": "code",
   "execution_count": null,
   "metadata": {},
   "outputs": [],
   "source": []
  },
  {
   "cell_type": "code",
   "execution_count": null,
   "metadata": {},
   "outputs": [],
   "source": []
  },
  {
   "cell_type": "code",
   "execution_count": null,
   "metadata": {},
   "outputs": [],
   "source": []
  },
  {
   "cell_type": "code",
   "execution_count": null,
   "metadata": {},
   "outputs": [],
   "source": []
  }
 ],
 "metadata": {
  "kernelspec": {
   "display_name": "Python 3",
   "language": "python",
   "name": "python3"
  },
  "language_info": {
   "codemirror_mode": {
    "name": "ipython",
    "version": 3
   },
   "file_extension": ".py",
   "mimetype": "text/x-python",
   "name": "python",
   "nbconvert_exporter": "python",
   "pygments_lexer": "ipython3",
   "version": "3.7.3"
  }
 },
 "nbformat": 4,
 "nbformat_minor": 2
}
